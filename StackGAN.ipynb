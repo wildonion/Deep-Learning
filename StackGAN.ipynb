{
  "nbformat": 4,
  "nbformat_minor": 0,
  "metadata": {
    "colab": {
      "name": "StackGAN",
      "provenance": [],
      "authorship_tag": "ABX9TyOsLHaEy6UolLQVU2/o8jiN",
      "include_colab_link": true
    },
    "kernelspec": {
      "name": "python3",
      "display_name": "Python 3"
    }
  },
  "cells": [
    {
      "cell_type": "markdown",
      "metadata": {
        "id": "view-in-github",
        "colab_type": "text"
      },
      "source": [
        "<a href=\"https://colab.research.google.com/github/wildonion/Deep-Learning_GAN/blob/master/StackGAN.ipynb\" target=\"_parent\"><img src=\"https://colab.research.google.com/assets/colab-badge.svg\" alt=\"Open In Colab\"/></a>"
      ]
    },
    {
      "cell_type": "markdown",
      "metadata": {
        "id": "CiRoxRoVOX4a",
        "colab_type": "text"
      },
      "source": [
        "# **UNSUPERVISED LEARNING | GANZ00 (The Art of Programming) _ Stack-GAN**"
      ]
    },
    {
      "cell_type": "code",
      "metadata": {
        "id": "PxChbo8bOetO",
        "colab_type": "code",
        "colab": {}
      },
      "source": [
        "\n",
        "'''\n",
        "https://towardsdatascience.com/summarizing-popular-text-to-image-synthesis-methods-with-python-dc12d0075286\n",
        "https://towardsdatascience.com/text-to-image-a3b201b003ae\n",
        "https://medium.com/@mrgarg.rajat/implementing-stackgan-using-keras-a0a1b381125e\n",
        "'''\n",
        "\n",
        "\n",
        "# ====================================================\n",
        "# Generating Images From Text - Implementing Stack-GAN\n",
        "# ====================================================\n",
        "\n",
        "\n",
        "\n"
      ],
      "execution_count": 0,
      "outputs": []
    },
    {
      "cell_type": "markdown",
      "metadata": {
        "id": "T-jbFqvwxJbM",
        "colab_type": "text"
      },
      "source": [
        "# **UNSUPERVISED LEARNING | GANZ00 (The Art of Programming) _ SR-GAN**"
      ]
    },
    {
      "cell_type": "code",
      "metadata": {
        "id": "_QE1_aRFxKPF",
        "colab_type": "code",
        "colab": {}
      },
      "source": [
        "'''\n",
        "https://medium.com/@birla.deepak26/single-image-super-resolution-using-gans-keras-aca310f33112\n",
        "'''\n",
        "\n"
      ],
      "execution_count": 0,
      "outputs": []
    },
    {
      "cell_type": "markdown",
      "metadata": {
        "id": "TfetLcNW-Zkm",
        "colab_type": "text"
      },
      "source": [
        "# **UNSUPERVISED LEARNING | GANZ00 (The Art of Programming) _ Cycle-GAN**"
      ]
    },
    {
      "cell_type": "code",
      "metadata": {
        "id": "RPsNsDF2-amU",
        "colab_type": "code",
        "colab": {}
      },
      "source": [
        "'''\n",
        "https://towardsdatascience.com/cyclegan-learning-to-translate-images-without-paired-training-data-5b4e93862c8d\n",
        "https://www.tensorflow.org/tutorials/generative/cyclegan\n",
        "https://junyanz.github.io/CycleGAN/\n",
        "https://machinelearningmastery.com/what-is-cyclegan/\n",
        "https://hardikbansal.github.io/CycleGANBlog/\n",
        "'''"
      ],
      "execution_count": 0,
      "outputs": []
    },
    {
      "cell_type": "markdown",
      "metadata": {
        "id": "Z6iM9wHWG7KG",
        "colab_type": "text"
      },
      "source": [
        "# **UNSUPERVISED LEARNING | GANZ00 (The Art of Programming) _ Conditional-GAN**"
      ]
    },
    {
      "cell_type": "code",
      "metadata": {
        "id": "yOHK8ZuWG8_1",
        "colab_type": "code",
        "colab": {}
      },
      "source": [
        "'''\n",
        "https://machinelearningmastery.com/how-to-develop-a-conditional-generative-adversarial-network-from-scratch/\n",
        "'''"
      ],
      "execution_count": 0,
      "outputs": []
    },
    {
      "cell_type": "markdown",
      "metadata": {
        "id": "0i4j6hoamlfv",
        "colab_type": "text"
      },
      "source": [
        "# **UNSUPERVISED LEARNING | GANZ00 (The Art of Programming) _ Style-GAN**"
      ]
    },
    {
      "cell_type": "code",
      "metadata": {
        "id": "oV-ihSNem55-",
        "colab_type": "code",
        "colab": {}
      },
      "source": [
        "'''\n",
        "https://github.com/NVlabs/stylegan\n",
        "'''\n",
        "\n",
        "# ====================================================\n",
        "# Style Generative Adversarial Network - Version 1 & 2\n",
        "# ====================================================\n",
        "\n"
      ],
      "execution_count": 0,
      "outputs": []
    },
    {
      "cell_type": "markdown",
      "metadata": {
        "id": "a_NPOpsPCcGV",
        "colab_type": "text"
      },
      "source": [
        "# **UNSUPERVISED LEARNING | GANZ00 (The Art of Programming) _ Progressive Growing-GAN**"
      ]
    },
    {
      "cell_type": "code",
      "metadata": {
        "id": "rFzWBSZcCnSD",
        "colab_type": "code",
        "colab": {}
      },
      "source": [
        "'''\n",
        "http://bamos.github.io/2016/08/09/deep-completion/#image-completion-with-dcgans\n",
        "https://machinelearningmastery.com/how-to-implement-progressive-growing-gan-models-in-keras/\n",
        "'''\n",
        "\n",
        "\n",
        "# ===========================================\n",
        "#  Progressive Growing GAN - Image Completion\n",
        "# ===========================================\n",
        "\n",
        "\n",
        "\n"
      ],
      "execution_count": 0,
      "outputs": []
    },
    {
      "cell_type": "markdown",
      "metadata": {
        "id": "3s4uScLJXJa9",
        "colab_type": "text"
      },
      "source": [
        "# **UNSUPERVISED LEARNING | GANZ00 (The Art of Programming) _ tfgan**"
      ]
    },
    {
      "cell_type": "code",
      "metadata": {
        "id": "G0tqIAIuXaip",
        "colab_type": "code",
        "colab": {}
      },
      "source": [
        "'''\n",
        "https://colab.research.google.com/github/tensorflow/gan/blob/master/tensorflow_gan/examples/colab_notebooks/tfgan_on_tpus.ipynb\n",
        "https://developers.google.com/machine-learning/gan/\n",
        "https://github.com/victordibia/tpuDCGAN\n",
        "'''\n",
        "\n",
        "ipkit = IPKit()\n",
        "x_train = ipkit.loadPaint()\n",
        "x_train.map(lambda x : tf.cast(x, tf))"
      ],
      "execution_count": 0,
      "outputs": []
    },
    {
      "cell_type": "markdown",
      "metadata": {
        "id": "fNDuYL4N_Nu9",
        "colab_type": "text"
      },
      "source": [
        "# **UNSUPERVISED LEARNING | GANZ00 (The Art of Programming) _ FGSM**"
      ]
    },
    {
      "cell_type": "code",
      "metadata": {
        "id": "onFNhnDL_qsF",
        "colab_type": "code",
        "colab": {}
      },
      "source": [
        "'''\n",
        "https://www.tensorflow.org/tutorials/generative/adversarial_fgsm\n",
        "'''"
      ],
      "execution_count": 0,
      "outputs": []
    },
    {
      "cell_type": "markdown",
      "metadata": {
        "id": "-jIlL767bM6j",
        "colab_type": "text"
      },
      "source": [
        "# **UNSUPERVISED LEARNING | Autoregressive Networks _ PixelRNN & PixelCNN++**"
      ]
    },
    {
      "cell_type": "code",
      "metadata": {
        "id": "e7QCFzJadB1f",
        "colab_type": "code",
        "colab": {}
      },
      "source": [
        "'''\n",
        "https://towardsdatascience.com/summary-of-pixelrnn-by-google-deepmind-7-min-read-938d9871d6d9\n",
        "https://towardsdatascience.com/auto-regressive-generative-models-pixelrnn-pixelcnn-32d192911173\n",
        "https://medium.com/intuitionmachine/voice-style-transfer-using-deep-learning-d173f1608af5\n",
        "https://www.oreilly.com/content/using-tensorflow-to-generate-images-with-pixelrnns/\n",
        "'''\n"
      ],
      "execution_count": 0,
      "outputs": []
    },
    {
      "cell_type": "markdown",
      "metadata": {
        "id": "CM2GRt6A_nD-",
        "colab_type": "text"
      },
      "source": [
        "# **Generate Art Using Neural Style Transfer & DeepDream**"
      ]
    },
    {
      "cell_type": "code",
      "metadata": {
        "id": "EzqPyZimBAbl",
        "colab_type": "code",
        "colab": {}
      },
      "source": [
        "'''\n",
        "https://www.tensorflow.org/tutorials/generative/style_transfer\n",
        "https://www.tensorflow.org/tutorials/generative/deepdream\n",
        "'''"
      ],
      "execution_count": 0,
      "outputs": []
    },
    {
      "cell_type": "markdown",
      "metadata": {
        "id": "DsSxs0C0bgr7",
        "colab_type": "text"
      },
      "source": [
        "# **Generate Art Using Pix2Pix**"
      ]
    },
    {
      "cell_type": "code",
      "metadata": {
        "id": "kVgsx16GbmOw",
        "colab_type": "code",
        "colab": {}
      },
      "source": [
        "'''\n",
        "https://machinelearningmastery.com/how-to-develop-a-pix2pix-gan-for-image-to-image-translation/\n",
        "https://www.tensorflow.org/tutorials/generative/pix2pix\n",
        "https://machinelearningmastery.com/how-to-implement-pix2pix-gan-models-from-scratch-with-keras/\n",
        "https://modelzoo.co/model/pix2pix-keras\n",
        "'''\n",
        "\n"
      ],
      "execution_count": 0,
      "outputs": []
    }
  ]
}